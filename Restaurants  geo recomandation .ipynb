{
    "cells": [
        {
            "cell_type": "markdown",
            "metadata": {
                "collapsed": true
            },
            "source": "\n### Problem\n\nThe Thickshake Factory is a milkshakes brand located in many cities across India and want to expand more in Hyderabad as it is most dense city and known for IThub. As the population is growing rapidly, they wanted to expand with more number of points in Hyderabad city.\n\nHyderabad is the 4th most populous city in India. It is the capital of largest state in India, named Andhra Pradesh. As, it is a large city with many places, they wanted to analize best places for starting their new milkshake points in that city. For that they wanted to explore city neighbourhoods data and make use of data science to identify best places to start their points.\n\nWe must be able to analyse neighbourhoods' venue details and identify places where there is less competition from other restaurants and milkshake brands.\n\nSo, this project will be useful in making identification of best places to start their new milkshake points give recommendations based on the explored data.\n"
        },
        {
            "cell_type": "markdown",
            "metadata": {},
            "source": "\n### Data Description\n\nFor the given problem statement we need following data\n\nNeighbourhoods of Hyderabad city. We collected the data from wikipedia link https://en.wikipedia.org/wiki/Category:Neighbourhoods_in_Hyderabad,_India\n\nWe scraped data from above link with library named BeautifulSoup (bs4)\n\nWe used geopy libarary to collect the geo location coordinates of Hyderabad and it's neighbourhoods.\n\nWe used FourSqaure to obtain the venues\n\nFeatures of data frame includes following\n\n    Neighbourhoods\n\n    Latitude\n\n    Longitude\n\n"
        },
        {
            "cell_type": "code",
            "execution_count": null,
            "metadata": {},
            "outputs": [],
            "source": ""
        }
    ],
    "metadata": {
        "kernelspec": {
            "display_name": "Python 3.6",
            "language": "python",
            "name": "python3"
        },
        "language_info": {
            "codemirror_mode": {
                "name": "ipython",
                "version": 3
            },
            "file_extension": ".py",
            "mimetype": "text/x-python",
            "name": "python",
            "nbconvert_exporter": "python",
            "pygments_lexer": "ipython3",
            "version": "3.6.9"
        }
    },
    "nbformat": 4,
    "nbformat_minor": 1
}